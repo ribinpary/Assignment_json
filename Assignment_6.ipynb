{
 "cells": [
  {
   "cell_type": "markdown",
   "id": "2a4b1e12",
   "metadata": {},
   "source": [
    "# assignment_1.1"
   ]
  },
  {
   "cell_type": "code",
   "execution_count": 12,
   "id": "ee1076ed",
   "metadata": {},
   "outputs": [],
   "source": [
    "l1=[{\"Name\":\"Ribin\",\"DOB\":\"11-06-2002\",\"Height\":180,\"City\":\"Malappuram\",\"State\":\"Kerala\"},\n",
    "    {\"Name\":\"John\",\"DOB\":\"21-07-2002\",\"Height\":168,\"City\":\"Bangalore\",\"State\":\"Karnataka\"},\n",
    "    {\"Name\":\"David\",\"DOB\":\"01-01-2002\",\"Height\":170,\"City\":\"Chennai\",\"State\":\"Tamil Nadu\"},\n",
    "    {\"Name\":\"Ashish\",\"DOB\":\"19-11-2002\",\"Height\":175,\"City\":\"North Delhi\",\"State\":\"Delhi\"},\n",
    "    {\"Name\":\"Ajil\",\"DOB\":\"05-03-2002\",\"Height\":180,\"City\":\"Mumbai\",\"State\":\"Maharashtra\"}]\n",
    "\n",
    "with open(\"employee.json\",\"w\")as file_handler:\n",
    "    json.dump(l1,file_handler)"
   ]
  },
  {
   "cell_type": "code",
   "execution_count": 24,
   "id": "00f5d80f",
   "metadata": {},
   "outputs": [
    {
     "name": "stdout",
     "output_type": "stream",
     "text": [
      "Name: Ribin, DOB: 11-06-2002, Height: 180, City: Malappuram, State: Kerala\n",
      "Name: John, DOB: 21-07-2002, Height: 168, City: Bangalore, State: Karnataka\n",
      "Name: David, DOB: 01-01-2002, Height: 170, City: Chennai, State: Tamil Nadu\n",
      "Name: Ashish, DOB: 19-11-2002, Height: 175, City: North Delhi, State: Delhi\n",
      "Name: Ajil, DOB: 05-03-2002, Height: 180, City: Mumbai, State: Maharashtra\n"
     ]
    }
   ],
   "source": [
    "import json\n",
    "\n",
    "class Employee:\n",
    "    def __init__(self,name,dob,height,city,state):\n",
    "        self.name=name\n",
    "        self.dob=dob\n",
    "        self.height=height\n",
    "        self.city=city\n",
    "        self.state=state\n",
    "        \n",
    "with open(\"employee.json\")as file_handler:\n",
    "    employee_data=json.load(file_handler)\n",
    "employees=[]\n",
    "for employee in employee_data:\n",
    "    name=employee[\"Name\"]\n",
    "    dob=employee[\"DOB\"]\n",
    "    height=employee[\"Height\"]\n",
    "    city=employee[\"City\"]\n",
    "    state=employee[\"State\"]\n",
    "    employees.append(Employee(name,dob,height,city,state))\n",
    "\n",
    "for employee in employees:\n",
    "    print(f\"Name: {employee.name}, DOB: {employee.dob}, Height: {employee.height}, City: {employee.city}, State: {employee.state}\")\n",
    "    "
   ]
  },
  {
   "cell_type": "markdown",
   "id": "6ef35e74",
   "metadata": {},
   "source": [
    "# assignment_1.2"
   ]
  },
  {
   "cell_type": "code",
   "execution_count": 29,
   "id": "4d3ed7c3",
   "metadata": {},
   "outputs": [
    {
     "name": "stdout",
     "output_type": "stream",
     "text": [
      "json file created\n"
     ]
    }
   ],
   "source": [
    "states_capital={\n",
    "    \"Kerala\":\"Thiruvananthapuram\",\n",
    "    \"Assam\":\"Dispur\",\n",
    "    \"Bihar\":\"Patna\",\n",
    "    \"Karnataka\":\"Bengaluru\",\n",
    "    \"Gujarat\":\"Gandhinagar\",\n",
    "    \"Tamil Nadu\":\"Chennai\",\n",
    "    \"Maharashtra\":\"Mumbai\"\n",
    "}\n",
    "\n",
    "with open(\"states_capital.json\",\"w\") as file:\n",
    "    json.dump(states_capital,file)\n",
    "    print(\"json file created\")    "
   ]
  },
  {
   "cell_type": "code",
   "execution_count": null,
   "id": "d26dd3a5",
   "metadata": {},
   "outputs": [],
   "source": []
  },
  {
   "cell_type": "markdown",
   "id": "6eb37688",
   "metadata": {},
   "source": [
    "# assignment_2"
   ]
  },
  {
   "cell_type": "code",
   "execution_count": 32,
   "id": "ed0ce374",
   "metadata": {},
   "outputs": [],
   "source": [
    "#creating the class\n",
    "\n",
    "class Dog:\n",
    "    def __init__(self, name, age, coat_color):\n",
    "        self.name = name\n",
    "        self.age = age\n",
    "        self.coat_color = coat_color\n",
    "\n",
    "    def description(self):\n",
    "        print(\"Name: \" + self.name)\n",
    "        print(\"Age: \" + str(self.age))\n",
    "\n",
    "    def get_info(self):\n",
    "        print(\"Coat Color: \" + self.coat_color)\n",
    "\n",
    "\n",
    "class JackRussellTerrier(Dog):\n",
    "    def __init__(self, name, age, coat_color):\n",
    "        super().__init__(name, age, coat_color)\n",
    "\n",
    "    def jump(self):\n",
    "        print(self.name + \" is jumping!\")\n",
    "\n",
    "    def fetch(self, item):\n",
    "        print(self.name + \" is fetching \" + item)\n",
    "\n",
    "\n",
    "class Bulldog(Dog):\n",
    "    def __init__(self, name, age, coat_color):\n",
    "        super().__init__(name, age, coat_color)\n",
    "\n",
    "    def bark(self):\n",
    "        print(self.name + \" is barking!\")\n",
    "\n",
    "    def sleep(self):\n",
    "        print(self.name + \" is sleeping!\")\n",
    "\n",
    "\n",
    "dog1 = Dog(\"Max\", 5, \"Brown\")\n",
    "dog2 = JackRussellTerrier(\"Rocky\", 3, \"White\")\n",
    "dog3 = Bulldog(\"Bella\", 4, \"Fawn\")"
   ]
  },
  {
   "cell_type": "code",
   "execution_count": 33,
   "id": "dd0285fc",
   "metadata": {},
   "outputs": [
    {
     "name": "stdout",
     "output_type": "stream",
     "text": [
      "Name: Max\n",
      "Age: 5\n",
      "\n",
      "Coat Color: Brown\n",
      "\n",
      "Name: Rocky\n",
      "Age: 3\n",
      "Rocky is jumping!\n",
      "Rocky is fetching ball\n",
      "\n",
      "Coat Color: White\n",
      "\n",
      "Name: Bella\n",
      "Age: 4\n",
      "Bella is barking!\n",
      "Bella is sleeping!\n",
      "\n",
      "Coat Color: Fawn\n"
     ]
    }
   ],
   "source": [
    "#calling the functions\n",
    "\n",
    "dog1.description()\n",
    "print()\n",
    "dog1.get_info()\n",
    "print()\n",
    "\n",
    "dog2.description()\n",
    "dog2.jump()\n",
    "dog2.fetch(\"ball\")\n",
    "print()\n",
    "dog2.get_info()\n",
    "print()\n",
    "\n",
    "dog3.description()\n",
    "dog3.bark()\n",
    "dog3.sleep()\n",
    "print()\n",
    "dog3.get_info()"
   ]
  },
  {
   "cell_type": "code",
   "execution_count": null,
   "id": "c35e35e0",
   "metadata": {},
   "outputs": [],
   "source": []
  }
 ],
 "metadata": {
  "kernelspec": {
   "display_name": "Python 3 (ipykernel)",
   "language": "python",
   "name": "python3"
  },
  "language_info": {
   "codemirror_mode": {
    "name": "ipython",
    "version": 3
   },
   "file_extension": ".py",
   "mimetype": "text/x-python",
   "name": "python",
   "nbconvert_exporter": "python",
   "pygments_lexer": "ipython3",
   "version": "3.10.9"
  },
  "varInspector": {
   "cols": {
    "lenName": 16,
    "lenType": 16,
    "lenVar": 40
   },
   "kernels_config": {
    "python": {
     "delete_cmd_postfix": "",
     "delete_cmd_prefix": "del ",
     "library": "var_list.py",
     "varRefreshCmd": "print(var_dic_list())"
    },
    "r": {
     "delete_cmd_postfix": ") ",
     "delete_cmd_prefix": "rm(",
     "library": "var_list.r",
     "varRefreshCmd": "cat(var_dic_list()) "
    }
   },
   "types_to_exclude": [
    "module",
    "function",
    "builtin_function_or_method",
    "instance",
    "_Feature"
   ],
   "window_display": false
  }
 },
 "nbformat": 4,
 "nbformat_minor": 5
}
